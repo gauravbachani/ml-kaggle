{
 "cells": [
  {
   "cell_type": "code",
   "execution_count": 1,
   "metadata": {
    "_cell_guid": "b1076dfc-b9ad-4769-8c92-a6c4dae69d19",
    "_uuid": "8f2839f25d086af736a60e9eeb907d3b93b6e0e5"
   },
   "outputs": [
    {
     "name": "stdout",
     "output_type": "stream",
     "text": [
      "/kaggle/input/enron-email-dataset/emails.csv\n",
      "/kaggle/input/gaurav123/tester.py\n",
      "/kaggle/input/gaurav123/feature_format.py\n",
      "/kaggle/input/gaurav123/final_project_dataset.pkl\n"
     ]
    }
   ],
   "source": [
    "# This Python 3 environment comes with many helpful analytics libraries installed\n",
    "# It is defined by the kaggle/python Docker image: https://github.com/kaggle/docker-python\n",
    "# For example, here's several helpful packages to load\n",
    "\n",
    "import numpy as np # linear algebra\n",
    "import pandas as pd # data processing, CSV file I/O (e.g. pd.read_csv)\n",
    "\n",
    "# Input data files are available in the read-only \"../input/\" directory\n",
    "# For example, running this (by clicking run or pressing Shift+Enter) will list all files under the input directory\n",
    "import sys\n",
    "import os\n",
    "for dirname, _, filenames in os.walk('/kaggle/input'):\n",
    "    for filename in filenames:\n",
    "        print(os.path.join(dirname, filename))\n",
    "sys.path.append('/kaggle/input/enron-project/')\n",
    "# You can write up to 5GB to the current directory (/kaggle/working/) that gets preserved as output when you create a version using \"Save & Run All\" \n",
    "# You can also write temporary files to /kaggle/temp/, but they won't be saved outside of the current session"
   ]
  },
  {
   "cell_type": "code",
   "execution_count": 2,
   "metadata": {
    "_cell_guid": "79c7e3d0-c299-4dcb-8224-4455121ee9b0",
    "_uuid": "d629ff2d2480ee46fbb7e2d37f6b5fab8052498a"
   },
   "outputs": [],
   "source": [
    "import pickle\n",
    "original = \"/kaggle/input/gaurav123/final_project_dataset.pkl\"\n",
    "destination = \"modified_final_project_dataset.pkl\"\n",
    "\n",
    "content = ''\n",
    "outsize = 0\n",
    "with open(original, 'rb') as infile:\n",
    "    content = infile.read()\n",
    "with open(destination, 'wb') as output:\n",
    "    for line in content.splitlines():\n",
    "        outsize += len(line) + 1\n",
    "        output.write(line + str.encode('\\n'))"
   ]
  },
  {
   "cell_type": "code",
   "execution_count": 3,
   "metadata": {},
   "outputs": [],
   "source": [
    "def featureFormat( dictionary, features, remove_NaN=True, remove_all_zeroes=True, remove_any_zeroes=False, sort_keys = False):\n",
    "    return_list = []\n",
    "    if isinstance(sort_keys, str):\n",
    "        import pickle\n",
    "        keys = pickle.load(open(sort_keys, \"rb\"))\n",
    "    elif sort_keys:\n",
    "        keys = sorted(dictionary.keys())\n",
    "    else:\n",
    "        keys = dictionary.keys()\n",
    "\n",
    "    for key in keys:\n",
    "        tmp_list = []\n",
    "        for feature in features:\n",
    "            try:\n",
    "                dictionary[key][feature]\n",
    "            except KeyError:\n",
    "                print (\"error: key \", feature, \" not present\")\n",
    "                return\n",
    "            value = dictionary[key][feature]\n",
    "            if value==\"NaN\" and remove_NaN:\n",
    "                value = 0\n",
    "            tmp_list.append( float(value) )\n",
    "\n",
    "        # Logic for deciding whether or not to add the data point.\n",
    "        append = True\n",
    "        # exclude 'poi' class as criteria.\n",
    "        if features[0] == 'poi':\n",
    "            test_list = tmp_list[1:]\n",
    "        else:\n",
    "            test_list = tmp_list\n",
    "        ### if all features are zero and you want to remove\n",
    "        ### data points that are all zero, do that here\n",
    "        if remove_all_zeroes:\n",
    "            append = False\n",
    "            for item in test_list:\n",
    "                if item != 0 and item != \"NaN\":\n",
    "                    append = True\n",
    "                    break\n",
    "        ### if any features for a given data point are zero\n",
    "        ### and you want to remove data points with any zeroes,\n",
    "        ### handle that here\n",
    "        if remove_any_zeroes:\n",
    "            if 0 in test_list or \"NaN\" in test_list:\n",
    "                append = False\n",
    "        ### Append the data point if flagged for addition.\n",
    "        if append:\n",
    "            return_list.append( np.array(tmp_list) )\n",
    "\n",
    "    return np.array(return_list)\n",
    "\n",
    "def targetFeatureSplit( data ):\n",
    "    target = []\n",
    "    features = []\n",
    "    for item in data:\n",
    "        target.append( item[0] )\n",
    "        features.append( item[1:] )\n",
    "\n",
    "    return target, features"
   ]
  },
  {
   "cell_type": "code",
   "execution_count": 4,
   "metadata": {},
   "outputs": [
    {
     "data": {
      "image/png": "[encoded data removed]",
      "text/plain": [
       "<Figure size 720x720 with 4 Axes>"
      ]
     },
     "metadata": {
      "needs_background": "light"
     },
     "output_type": "display_data"
    }
   ],
   "source": [
    "#plotting graphs for various features\n",
    "enron_data = pickle.load(open(\"modified_final_project_dataset.pkl\", 'rb') )\n",
    "enron_data.pop('TOTAL')\n",
    "import matplotlib.pyplot as plt\n",
    "from sklearn import preprocessing\n",
    "fig,a=plt.subplots(2,2,squeeze=False,figsize=(10,10))\n",
    "#graphs for various features to decide which features to include\n",
    "x1=featureFormat(enron_data,[\"poi\",\"salary\",\"deferral_payments\"])\n",
    "for y in range(len(x1)):\n",
    "    if x1[y][0]==True:\n",
    "        a[0][0].scatter(x1[y][1],x1[y][2],color='g')\n",
    "    else:\n",
    "        a[0][0].scatter(x1[y][1],x1[y][2],color='y')\n",
    "x2=featureFormat(enron_data,[\"poi\",\"total_payments\",\"loan_advances\"])\n",
    "for z in range(len(x2)):\n",
    "    if x2[z][0]==True:\n",
    "        a[0][1].scatter(x2[z][1],x2[z][2],color='g')\n",
    "    else:\n",
    "        a[0][1].scatter(x2[z][1],x2[z][2],color='y')\n",
    "x3=featureFormat(enron_data,[\"poi\",\"total_stock_value\",\"exercised_stock_options\"])\n",
    "for z in range(len(x3)):\n",
    "    if x3[z][0]==True:\n",
    "        a[1][0].scatter(x3[z][1],x3[z][2],color='g')\n",
    "    else:\n",
    "        a[1][0].scatter(x3[z][1],x3[z][2],color='y')\n",
    "x4=featureFormat(enron_data,[\"poi\",\"salary\",\"loan_advances\",\"deferral_payments\"])\n",
    "for z in range(len(x4)):\n",
    "    if x4[z][0]==True:\n",
    "        a[1][1].scatter(x4[z][1],x4[z][2],color='g')\n",
    "    else:\n",
    "        a[1][1].scatter(x4[z][1],x4[z][2],color='y')\n",
    "plt.show()"
   ]
  },
  {
   "cell_type": "code",
   "execution_count": 5,
   "metadata": {},
   "outputs": [],
   "source": [
    "#adding new features\n",
    "def dict_to_list(key,normalizer):\n",
    "    new_list=[]\n",
    "\n",
    "    for i in enron_data:\n",
    "        if enron_data[i][key]==\"NaN\" or enron_data[i][normalizer]==\"NaN\":\n",
    "            new_list.append(0.)\n",
    "        elif enron_data[i][key]>=0:\n",
    "            new_list.append(float(enron_data[i][key])/float(enron_data[i][normalizer]))\n",
    "    return new_list\n",
    "\n",
    "fraction_from_poi_email=dict_to_list(\"from_poi_to_this_person\",\"to_messages\")\n",
    "fraction_to_poi_email=dict_to_list(\"from_this_person_to_poi\",\"from_messages\")\n",
    "j = 0\n",
    "for i in enron_data:\n",
    "    enron_data[i][\"fraction_from_poi_email\"]=fraction_from_poi_email[j]\n",
    "    enron_data[i][\"fraction_to_poi_email\"]=fraction_to_poi_email[j]\n",
    "    j+=1"
   ]
  },
  {
   "cell_type": "markdown",
   "execution_count": null,
   "metadata": {},
   "source": [
    "# Applying various algorithm for best accuracy"
   ]
  },
  {
   "cell_type": "code",
   "execution_count": 6,
   "metadata": {},
   "outputs": [
    {
     "name": "stdout",
     "output_type": "stream",
     "text": [
      "0.9523809523809523\n"
     ]
    }
   ],
   "source": [
    "from sklearn.metrics import accuracy_score\n",
    "from sklearn.linear_model import LogisticRegression\n",
    "from sklearn.model_selection import train_test_split\n",
    "from sklearn.metrics import precision_recall_curve\n",
    "from sklearn.metrics import precision_score\n",
    "from sklearn.metrics import recall_score\n",
    "from sklearn.metrics import f1_score\n",
    "from sklearn import metrics\n",
    "from sklearn import tree\n",
    "feature_list = ['poi','shared_receipt_with_poi','fraction_from_poi_email','fraction_to_poi_email',\"deferral_payments\"]\n",
    "u = featureFormat(enron_data, feature_list)\n",
    "labels, features = targetFeatureSplit(u)\n",
    "X_train, X_test, Y_train, Y_test = train_test_split(features, labels,test_size=0.2,random_state=42)\n",
    "#Decision tree algorithm\n",
    "#clf = tree.DecisionTreeRegressor()\n",
    "#clf.fit(X_train,Y_train)\n",
    "#print(accuracy_score(Y_test, clf.predict(X_test)))\n",
    "#LOGISTIC REGRESSION\n",
    "LR = LogisticRegression(C=0.01, solver='liblinear').fit(X_train,Y_train)\n",
    "print(accuracy_score(Y_test, LR.predict(X_test)))\n",
    "#accuracy using logistic regression is 0.9523\n",
    "#SVM\n",
    "#from sklearn.svm import SVC\n",
    "#svmClassifier=SVC(kernel=\"rbf\",gamma=\"auto\")\n",
    "#svmClassifier.fit(X_train,Y_train)\n",
    "#print(accuracy_score(Y_test, svmClassifier.predict(X_test)))\n",
    "#using logistic regression."
   ]
  },
  {
   "cell_type": "code",
   "execution_count": 7,
   "metadata": {},
   "outputs": [],
   "source": [
    "pickle.dump(LR, open(\"my_classifier.pkl\", \"wb\") )\n",
    "pickle.dump(enron_data, open(\"my_dataset.pkl\", \"wb\") )\n",
    "pickle.dump(feature_list, open(\"my_feature_list.pkl\", \"wb\") )"
   ]
  }
 ],
 "metadata": {
  "kernelspec": {
   "display_name": "Python 3",
   "language": "python",
   "name": "python3"
  },
  "language_info": {
   "codemirror_mode": {
    "name": "ipython",
    "version": 3
   },
   "file_extension": ".py",
   "mimetype": "text/x-python",
   "name": "python",
   "nbconvert_exporter": "python",
   "pygments_lexer": "ipython3",
   "version": "3.7.6"
  }
 },
 "nbformat": 4,
 "nbformat_minor": 4
}
